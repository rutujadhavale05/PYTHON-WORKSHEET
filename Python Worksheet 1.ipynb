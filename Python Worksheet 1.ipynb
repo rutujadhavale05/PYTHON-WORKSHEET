{
 "cells": [
  {
   "cell_type": "markdown",
   "id": "2c3ebb59-c57d-44e5-83b8-198daf6af60b",
   "metadata": {},
   "source": [
    "# 1. Take a user input of temperature in celsius and print the equivalent Fahrenheit "
   ]
  },
  {
   "cell_type": "code",
   "execution_count": 4,
   "id": "de2406c4-b05d-4219-b1a9-8eba70136d87",
   "metadata": {},
   "outputs": [
    {
     "name": "stdin",
     "output_type": "stream",
     "text": [
      "enter a temperature in celsius 100\n"
     ]
    },
    {
     "name": "stdout",
     "output_type": "stream",
     "text": [
      "212.0\n"
     ]
    }
   ],
   "source": [
    "c = float(input(\"enter a temperature in celsius\"))\n",
    "f = (c*9/5+32)\n",
    "print(f)"
   ]
  },
  {
   "cell_type": "markdown",
   "id": "fffd7b52-c7d5-4d1b-8be2-1cbf506ead40",
   "metadata": {},
   "source": [
    "# 2. Ask the user to enter their age .\n",
    "- if age < 13 : print 'Child'\n",
    "- if age between 13 and 19 : print 'Teenager'\n",
    "- Else : print 'Adult'"
   ]
  },
  {
   "cell_type": "code",
   "execution_count": 6,
   "id": "3a2844be-e341-4023-8c2c-8bf37f5deecf",
   "metadata": {},
   "outputs": [
    {
     "name": "stdin",
     "output_type": "stream",
     "text": [
      "enter age 50\n"
     ]
    },
    {
     "name": "stdout",
     "output_type": "stream",
     "text": [
      "Adult\n"
     ]
    }
   ],
   "source": [
    "age = int(input(\"enter age\"))\n",
    "if age < 13:\n",
    "    print(\"Child\")\n",
    "elif age >=13 and age <=19:\n",
    "    print(\"Teenager\")\n",
    "else :\n",
    "    print(\"Adult\")"
   ]
  },
  {
   "cell_type": "markdown",
   "id": "b68ea6f4-eb38-4d70-931f-d2e9b36ad945",
   "metadata": {},
   "source": [
    "# 3. Write a program to check if a number is positive, negative, or zero."
   ]
  },
  {
   "cell_type": "code",
   "execution_count": 8,
   "id": "11395d13-50c0-4eb0-b57f-89e02952080f",
   "metadata": {},
   "outputs": [
    {
     "name": "stdin",
     "output_type": "stream",
     "text": [
      "enter a number 30\n"
     ]
    },
    {
     "name": "stdout",
     "output_type": "stream",
     "text": [
      "the number is positive\n"
     ]
    }
   ],
   "source": [
    "num = int(input(\"enter a number\"))\n",
    "if num > 0:\n",
    "    print(\"the number is positive\")\n",
    "elif num < 0:\n",
    "    print(\"the number is negative\")\n",
    "else :\n",
    "    print(\"the number is 0\")"
   ]
  },
  {
   "cell_type": "markdown",
   "id": "6545ab76-9f0c-4717-8a55-bd86af7d5d35",
   "metadata": {},
   "source": [
    "# 4. Create a program that takes a user's name and age , and prints : \n",
    "' Hi, < name>, you will be <age+5> years old in 5 years'"
   ]
  },
  {
   "cell_type": "code",
   "execution_count": 10,
   "id": "4487814e-ed1f-4347-9ca5-7255ddaf0f9f",
   "metadata": {},
   "outputs": [
    {
     "name": "stdin",
     "output_type": "stream",
     "text": [
      "Enter the name:  rutuja\n",
      "Enter the age:  20\n"
     ]
    },
    {
     "name": "stdout",
     "output_type": "stream",
     "text": [
      "Hi rutuja you will be 25 years old in 5 years\n"
     ]
    }
   ],
   "source": [
    "name = input(\"Enter the name: \")\n",
    "age = int(input(\"Enter the age: \")) + 5\n",
    "print(\"Hi\",name,\"you will be\",age,\"years old in 5 years\")"
   ]
  },
  {
   "cell_type": "markdown",
   "id": "9e9371bb-e45d-4965-90d5-10ed9363cd83",
   "metadata": {},
   "source": [
    "# 5. Ask a user to enter a number :\n",
    "- If divisible by 3 , print'Fizz'\n",
    "- If divisible by 5 , print 'Buzz'\n",
    "- If divisible by both 3 and 5, print 'FizzBuzz'\n",
    "- Else, print the number itself ."
   ]
  },
  {
   "cell_type": "code",
   "execution_count": 20,
   "id": "13760aca-d3c5-472e-b3c0-8252023a7290",
   "metadata": {},
   "outputs": [
    {
     "name": "stdin",
     "output_type": "stream",
     "text": [
      "enter a number 30\n"
     ]
    },
    {
     "name": "stdout",
     "output_type": "stream",
     "text": [
      "FizzBuzz\n"
     ]
    }
   ],
   "source": [
    "num = int(input(\"enter a number\"))\n",
    "if num % 3 == 0 and num % 5 == 0 :\n",
    "    print(\"FizzBuzz\")\n",
    "elif num % 3 == 0:\n",
    "    print(\"Fizz\")\n",
    "elif num % 5 == 0:\n",
    "    print(\"Buzz\")\n",
    "else :\n",
    "    print(num)"
   ]
  },
  {
   "cell_type": "markdown",
   "id": "e821fecd-67c4-4f5e-8bfa-9f32308d12c0",
   "metadata": {},
   "source": [
    "# 6. Create a simple login program that asks the user to enter a username and password. If both match predifined values (e.g. , admin and 12345), print, 'Login successful', else print 'Invalid credentials'"
   ]
  },
  {
   "cell_type": "code",
   "execution_count": 22,
   "id": "8ddf5620-b1b7-46ee-b9bf-f10061e0ec96",
   "metadata": {},
   "outputs": [
    {
     "name": "stdin",
     "output_type": "stream",
     "text": [
      "Enter the username rutuja\n",
      "Enter the passowrd 1234\n"
     ]
    },
    {
     "name": "stdout",
     "output_type": "stream",
     "text": [
      "Invalid Credentials\n"
     ]
    }
   ],
   "source": [
    "username = input(\"Enter the username\")\n",
    "password = int(input(\"Enter the passowrd\"))\n",
    "\n",
    "if username == \"rutuja\" and password == 123455:\n",
    "    print(\"Login Successful\")\n",
    "else :\n",
    "    print (\"Invalid Credentials\")"
   ]
  },
  {
   "cell_type": "markdown",
   "id": "0ef0956e-eec9-4eb3-bf07-b39627db1240",
   "metadata": {},
   "source": [
    "# 7. Write the program to convert the kilometers into miles. 1 Kilometers = 0.621371 miles "
   ]
  },
  {
   "cell_type": "code",
   "execution_count": 30,
   "id": "37b29479-2ad1-4511-bfeb-a8fcea5863d9",
   "metadata": {},
   "outputs": [
    {
     "name": "stdin",
     "output_type": "stream",
     "text": [
      "Enter a kilometer 20\n"
     ]
    },
    {
     "name": "stdout",
     "output_type": "stream",
     "text": [
      "12.42742\n"
     ]
    }
   ],
   "source": [
    "kilometer = float(input(\"Enter a kilometer\"))\n",
    "miles = (kilometer * 0.621371)\n",
    "print(miles)"
   ]
  },
  {
   "cell_type": "markdown",
   "id": "9db26aec-2aca-43ec-b955-db71ad209928",
   "metadata": {},
   "source": [
    "# 8. Find the minimum of the three numbers - Take 3 numbers as input from user and check which is smallest number. "
   ]
  },
  {
   "cell_type": "code",
   "execution_count": 42,
   "id": "71e61008-006e-4f6f-87bc-11783033365b",
   "metadata": {},
   "outputs": [
    {
     "name": "stdin",
     "output_type": "stream",
     "text": [
      "Enter a number 50\n",
      "Enter a number 30\n",
      "Enter a number 40\n"
     ]
    },
    {
     "name": "stdout",
     "output_type": "stream",
     "text": [
      "30 is the smallest number\n"
     ]
    }
   ],
   "source": [
    "number1 = int(input(\"Enter a number\"))\n",
    "number2 = int(input(\"Enter a number\"))\n",
    "number3 = int(input(\"Enter a number\"))\n",
    "if number1 < number2 and number1 < number3:\n",
    "    print(number1,\"is the smallest\")\n",
    "elif number2 < number1 and number2 < number3:\n",
    "    print(number2,\"is the smallest number\")\n",
    "else :\n",
    "    print(number3,\"is the smallest number\")\n",
    "\n",
    "\n",
    "\n"
   ]
  },
  {
   "cell_type": "markdown",
   "id": "6e60edba-27a3-422a-96a0-ddf7c442fd47",
   "metadata": {},
   "source": [
    "# 9. Implement a program where user enters their current savings and monthly deposit. Use assignment operators to update their savings account after adding their monthly deposit , including monthly interest of 0.5%. "
   ]
  },
  {
   "cell_type": "code",
   "execution_count": 80,
   "id": "1e8afae9-8ada-4420-90db-7dd0dd0caa20",
   "metadata": {},
   "outputs": [
    {
     "name": "stdin",
     "output_type": "stream",
     "text": [
      "Enter savings amount 10000\n",
      "Enter deposit amount 10000\n"
     ]
    },
    {
     "name": "stdout",
     "output_type": "stream",
     "text": [
      "20000.0\n",
      "Balance after the monthly deposit and interest is : 20100.0\n"
     ]
    }
   ],
   "source": [
    "savings = float(input(\"Enter savings amount\"))\n",
    "deposit = float(input(\"Enter deposit amount\"))\n",
    "savings += deposit\n",
    "print(savings)\n",
    "interest = savings * 0.005\n",
    "savings = interest + savings\n",
    "print(\"Balance after the monthly deposit and interest is :\", savings)\n"
   ]
  }
 ],
 "metadata": {
  "kernelspec": {
   "display_name": "Python [conda env:base] *",
   "language": "python",
   "name": "conda-base-py"
  },
  "language_info": {
   "codemirror_mode": {
    "name": "ipython",
    "version": 3
   },
   "file_extension": ".py",
   "mimetype": "text/x-python",
   "name": "python",
   "nbconvert_exporter": "python",
   "pygments_lexer": "ipython3",
   "version": "3.12.7"
  }
 },
 "nbformat": 4,
 "nbformat_minor": 5
}
